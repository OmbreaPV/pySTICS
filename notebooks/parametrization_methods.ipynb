{
 "cells": [
  {
   "cell_type": "markdown",
   "id": "a65a9152",
   "metadata": {},
   "source": [
    "This notebook aims at showing the different way to parametrize each input of pystics simulation :\n",
    "- crop parameters\n",
    "- soil parameters\n",
    "- initial values\n",
    "- station parameters\n",
    "- technical parameters\n",
    "- constants\n",
    "- weather data\n",
    "\n"
   ]
  },
  {
   "cell_type": "code",
   "execution_count": 37,
   "id": "e447fcef",
   "metadata": {},
   "outputs": [],
   "source": [
    "import os\n",
    "parametrization_files_path = os.path.abspath('../src/pystics/parametrization_files')\n",
    "mocked_weather_path = os.path.abspath('../tests/mocked_data/mocked_param_files/example/weather_45.78_3.08.1994')\n",
    "\n",
    "\n",
    "import pandas as pd\n",
    "from pystics.params import CropParams, SoilParams, ManageParams, InitialParams, Constants, StationParams, parametrization_from_stics_example_files"
   ]
  },
  {
   "cell_type": "markdown",
   "id": "d5402b4e",
   "metadata": {},
   "source": [
    "# Crop parameters"
   ]
  },
  {
   "cell_type": "markdown",
   "id": "9c99d754",
   "metadata": {},
   "source": [
    "Option 1 : use plant files provided by STICS project team (stored in parametreizaiton_files folder of the repository)."
   ]
  },
  {
   "cell_type": "code",
   "execution_count": 38,
   "id": "d7405cd8",
   "metadata": {},
   "outputs": [
    {
     "data": {
      "text/plain": [
       "CropParams(species='wheat', variety='Talent', file_path='/home/etienne/Documents/STICS/ministics_uliege/src/pystics/parametrization_files/plant/wheat_plt.xml', xml_folder_path='/home/etienne/Documents/STICS/ministics_uliege/src/pystics/parametrization_files/plant', ZLABOUR=15, ZPENTE=100, ZPRLIM=150, forage=False, CODEPERENNE=1, CODEINDETERMIN=1, HERBACEOUS=True, CODEBFROID=2, CODEPHOT=1, CODCALINFLO=1, CODEIR=1, CODETEMPRAC=1, CODEGERMIN=1, CODEHYPO=1, CODERETFLO=1, CODGELLEV=2, CODGELJUV=2, CODGELFLO=2, CODGELVEG=2, CODETEMP=2, CODETREMP=1, TCMIN=0.0, TCMAX=40.0, JVC=55, TFROID=6.5, AMPFROID=10.0, JVCMINI=7.0, PHOBASE=6.3, PHOSAT=20, SENSIPHOT=0, TDMINDEB=-999, TDMAXDEB=-999, Q10=-999, STDORDEBOUR=-999, STPLTGER=50.0, STLEVAMF=235, STAMFLAX=260, STDRPMAT=700, STLEVDRP=692, STFLODRP=0, STDRPNOU=-999, STDRPDES=700, STLAXSEN=-999, STSENLAN=-999, CROIRAC=0.12, KMAX=1, ADENS=-0.6, BDENS=7.0, DLAIMAXBRUT=0.00047, DLAIMAX=0.00047, CODLAINET=2, PENTLAIMAX=5.5, VLAIMAX=2.2, UDLAIMAX=3.0, LAICOMP=0.304, DLAIMIN=0.0, EXTIN=0.5, TEOPT=12.0, TEOPTBIS=17.0, TEMIN=0.0, TEMAX=40.0, EFCROIJUV=2.2, EFCROIVEG=4.25, EFCROIREPRO=4.25, PSISTO=15, RAYON=0.02, TDEBGEL=-4.0, TLETALE=-25.0, TGELFLO10=-4.5, TGELFLO90=-6.5, TGELJUV10=-10.0, TGELJUV90=-20.0, TGELVEG10=-4.5, TGELVEG90=-10.0, TGELLEV10=-4.0, TGELLEV90=-20.0, NBFGELLEV=2, PHYLLOTHERME=120, PGRAINMAXI=0.0388, NBJGRAIN=30, CGRAINV0=0.0, CGRAIN=0.036, NBGRMAX=30000, NBGRMIN=6000, VITIRCARB=0.0107, VITIRCARBT=-999, IRMAX=0.55, TMINREMP=0.0, TMAXREMP=38, AFRUITPOT=-999, NBINFLO=-999, INFLOMAX=-999, PENTINFLORES=-999, SPFRMIN=-999, SPFRMAX=-999, DUREEFRUIT=-999, NBOITE=-999, ALLOCFRMAX=-999, CFPF=-999, DFPF=-999, AFPF=-999, BFPF=-999, TDMIN=0.0, TDMAX=28, TCXSTOP=100.0, ALPHACO2=1.2, SLAMAX=350, TIGEFEUIL=0.5, PROPRES=-999, PROPRESP=-999, SLAMIN=180, ABSCISSION=0.0, RATIOSEN=0.8, DURVIEF=200, RATIODURVIEI=0.8, RAPSENTURG=0.5, SWFACMIN=0.1, STRESSDEV=0.2, REMOBRES=0.2, EFREMOBIL=-999, RESPLMAX=0.66, PSITURG=4, RSMIN=-999, STEMFLOWMAX=-999, MOUILLABIL=-999, KSTEMFLOW=-999, HAUTMAX=1.2, HAUTBASE=0.0, CODEBESO=1, CODEDORMANCE=3, CODEINTERCEPT=2, POTGERMI=-1.6, PROPJGERMIN=1.0, TGMIN=0.0, NBJGERLIM=50, SENSRSEC=0.5, H2OFRVERT=0.4, DESHYDBASE=0.008, TEMPDESHYD=0.005, ELMAX=8.0, BELONG=0.012, CELONG=3.2, NLEVLIM1=10, NLEVLIM2=50, STOPRAC='SEN', CONTRDAMAX=0.3, COEFMSHAUT=0.0, KHAUT=0.7, STOPFEUILLE='LAX')"
      ]
     },
     "execution_count": 38,
     "metadata": {},
     "output_type": "execute_result"
    }
   ],
   "source": [
    "# Example for wheat\n",
    "crop = CropParams(species = 'wheat', variety = 'Talent')\n",
    "crop"
   ]
  },
  {
   "cell_type": "markdown",
   "id": "a36a74fc",
   "metadata": {},
   "source": [
    "Option 2 : use your custom plant file by providing its path or its folder"
   ]
  },
  {
   "cell_type": "code",
   "execution_count": 39,
   "id": "0fe7d7e2",
   "metadata": {},
   "outputs": [],
   "source": [
    "# Example for wheat with file_path\n",
    "crop = CropParams(species = 'wheat', variety = 'Talent', file_path = parametrization_files_path + '/plant/wheat_plt.xml') # change file_path with your file path"
   ]
  },
  {
   "cell_type": "code",
   "execution_count": 40,
   "id": "1659953f",
   "metadata": {},
   "outputs": [
    {
     "data": {
      "text/plain": [
       "CropParams(species='wheat', variety='Talent', file_path='/home/etienne/Documents/pySTICS/src/pystics/parametrization_files/plant/wheat_plt.xml', xml_folder_path='/home/etienne/Documents/pySTICS/src/pystics/parametrization_files/plant', ZLABOUR=15, ZPENTE=100, ZPRLIM=150, forage=False, CODEPERENNE=1, CODEINDETERMIN=1, HERBACEOUS=True, CODEBFROID=2, CODEPHOT=1, CODCALINFLO=1, CODEIR=1, CODETEMPRAC=1, CODEGERMIN=1, CODEHYPO=1, CODERETFLO=1, CODGELLEV=2, CODGELJUV=2, CODGELFLO=2, CODGELVEG=2, CODETEMP=2, CODETREMP=1, TCMIN=0.0, TCMAX=40.0, JVC=55, TFROID=6.5, AMPFROID=10.0, JVCMINI=7.0, PHOBASE=6.3, PHOSAT=20, SENSIPHOT=0, TDMINDEB=-999, TDMAXDEB=-999, Q10=-999, STDORDEBOUR=-999, STPLTGER=50.0, STLEVAMF=235, STAMFLAX=260, STDRPMAT=700, STLEVDRP=692, STFLODRP=0, STDRPNOU=-999, STDRPDES=700, STLAXSEN=-999, STSENLAN=-999, CROIRAC=0.12, KMAX=1, ADENS=-0.6, BDENS=7.0, DLAIMAXBRUT=0.00047, DLAIMAX=0.00047, CODLAINET=2, PENTLAIMAX=5.5, VLAIMAX=2.2, UDLAIMAX=3.0, LAICOMP=0.304, DLAIMIN=0.0, EXTIN=0.5, TEOPT=12.0, TEOPTBIS=17.0, TEMIN=0.0, TEMAX=40.0, EFCROIJUV=2.2, EFCROIVEG=4.25, EFCROIREPRO=4.25, PSISTO=15, RAYON=0.02, TDEBGEL=-4.0, TLETALE=-25.0, TGELFLO10=-4.5, TGELFLO90=-6.5, TGELJUV10=-10.0, TGELJUV90=-20.0, TGELVEG10=-4.5, TGELVEG90=-10.0, TGELLEV10=-4.0, TGELLEV90=-20.0, NBFGELLEV=2, PHYLLOTHERME=120, PGRAINMAXI=0.0388, NBJGRAIN=30, CGRAINV0=0.0, CGRAIN=0.036, NBGRMAX=30000, NBGRMIN=6000, VITIRCARB=0.0107, VITIRCARBT=-999, IRMAX=0.55, TMINREMP=0.0, TMAXREMP=38, AFRUITPOT=-999, NBINFLO=-999, INFLOMAX=-999, PENTINFLORES=-999, SPFRMIN=-999, SPFRMAX=-999, DUREEFRUIT=-999, NBOITE=-999, ALLOCFRMAX=-999, CFPF=-999, DFPF=-999, AFPF=-999, BFPF=-999, TDMIN=0.0, TDMAX=28, TCXSTOP=100.0, ALPHACO2=1.2, SLAMAX=350, TIGEFEUIL=0.5, PROPRES=-999, PROPRESP=-999, SLAMIN=180, ABSCISSION=0.0, RATIOSEN=0.8, DURVIEF=200, RATIODURVIEI=0.8, RAPSENTURG=0.5, SWFACMIN=0.1, STRESSDEV=0.2, REMOBRES=0.2, EFREMOBIL=-999, RESPLMAX=0.66, PSITURG=4, RSMIN=-999, STEMFLOWMAX=-999, MOUILLABIL=-999, KSTEMFLOW=-999, HAUTMAX=1.2, HAUTBASE=0.0, CODEBESO=1, CODEDORMANCE=3, CODEINTERCEPT=2, POTGERMI=-1.6, PROPJGERMIN=1.0, TGMIN=0.0, NBJGERLIM=50, SENSRSEC=0.5, H2OFRVERT=0.4, DESHYDBASE=0.008, TEMPDESHYD=0.005, ELMAX=8.0, BELONG=0.012, CELONG=3.2, NLEVLIM1=10, NLEVLIM2=50, STOPRAC='SEN', CONTRDAMAX=0.3, COEFMSHAUT=0.0, KHAUT=0.7, STOPFEUILLE='LAX')"
      ]
     },
     "execution_count": 40,
     "metadata": {},
     "output_type": "execute_result"
    }
   ],
   "source": [
    "# Example for wheat with xml_folder_path\n",
    "crop = CropParams(species = 'wheat', variety = 'Talent', xml_folder_path =  parametrization_files_path + '/plant') # change xml_folder_path with your folder path\n",
    "crop"
   ]
  },
  {
   "cell_type": "markdown",
   "id": "ccee71da",
   "metadata": {},
   "source": [
    "# Soil parameters"
   ]
  },
  {
   "cell_type": "markdown",
   "id": "6a6a0c63",
   "metadata": {},
   "source": [
    "Option 1 : provide all soil parameters when you instantiate the object"
   ]
  },
  {
   "cell_type": "code",
   "execution_count": 41,
   "id": "b018f9ba",
   "metadata": {},
   "outputs": [],
   "source": [
    "soil = SoilParams(CLAY = 0.3,\n",
    "                  SAND = 0.4,\n",
    "                  SILT = 0.3,\n",
    "                  SOC = 5,\n",
    "                  ARGI = 0.3,\n",
    "                  DAF_1 = 1.2,\n",
    "                  EPC_1 = 150,\n",
    "                  Q0 = 12,\n",
    "                  HMINF_1 = 1.8,\n",
    "                  HCCF_1 = 3.6)"
   ]
  },
  {
   "cell_type": "markdown",
   "id": "91d609b4",
   "metadata": {},
   "source": [
    "Option 2 : retrieve parameters from an XML file"
   ]
  },
  {
   "cell_type": "code",
   "execution_count": 42,
   "id": "44fdf277",
   "metadata": {},
   "outputs": [],
   "source": [
    "# Example for wheat soil in STICS usm example files\n",
    "soil = SoilParams(source = 'xml_file',\n",
    "                  file_path = parametrization_files_path + '/example/sols.xml',\n",
    "                  soil_name = 'solble')"
   ]
  },
  {
   "cell_type": "markdown",
   "id": "202b5e94",
   "metadata": {},
   "source": [
    "Option 3 : provide some parameters values and use pedotransfer functions to compute others."
   ]
  },
  {
   "cell_type": "code",
   "execution_count": 43,
   "id": "b642079f",
   "metadata": {},
   "outputs": [],
   "source": [
    "soil = SoilParams(source = 'ptf',\n",
    "                  SAND = 0.3,\n",
    "                  SILT = 0.2,\n",
    "                  CLAY = 0.5,\n",
    "                  SOC = 5,\n",
    "                  DAF_1 = 1.2,\n",
    "                  EPC_1 = 150\n",
    "                  )"
   ]
  },
  {
   "cell_type": "markdown",
   "id": "67c3664c",
   "metadata": {},
   "source": [
    "# Initial values"
   ]
  },
  {
   "cell_type": "markdown",
   "id": "563104fd",
   "metadata": {},
   "source": [
    "Option 1 : provide all initial values when you instantiate the object."
   ]
  },
  {
   "cell_type": "code",
   "execution_count": 44,
   "id": "8fec4dbd",
   "metadata": {},
   "outputs": [
    {
     "data": {
      "text/plain": [
       "InitialParams(file_path='', hinitf_unit='', HINITF_1=25, HINITF_2=30, HINITF_3=0.0, HINITF_4=0.0, HINITF_5=0.25, DENSINITIAL_1=0.0, DENSINITIAL_2=0.0, DENSINITIAL_3=0.0, DENSINITIAL_4=0.0, DENSINITIAL_5=0.25, STADE0='', LAI0=0, ZRAC0=0.0, MASEC0=0.0, RESTEMP0=0.0)"
      ]
     },
     "execution_count": 44,
     "metadata": {},
     "output_type": "execute_result"
    }
   ],
   "source": [
    "\n",
    "initial = InitialParams(HINITF_1 = 25,\n",
    "                        HINITF_2 = 30,\n",
    "                        LAI0 = 0)\n",
    "initial"
   ]
  },
  {
   "cell_type": "markdown",
   "id": "16839e88",
   "metadata": {},
   "source": [
    "Option 2 : retrieve parameters from an XML file"
   ]
  },
  {
   "cell_type": "code",
   "execution_count": 45,
   "id": "95eba758",
   "metadata": {},
   "outputs": [
    {
     "data": {
      "text/plain": [
       "InitialParams(file_path='/home/etienne/Documents/pySTICS/src/pystics/parametrization_files/example/ble_ini.xml', hinitf_unit='%', HINITF_1=1.3, HINITF_2=1.3, HINITF_3=1.2, HINITF_4=1.2, HINITF_5=1.2, DENSINITIAL_1=0.0, DENSINITIAL_2=0.0, DENSINITIAL_3=0.0, DENSINITIAL_4=0.0, DENSINITIAL_5=0.0, STADE0='snu', LAI0=0.0, ZRAC0=0.0, MASEC0=0.0, RESTEMP0=0.0)"
      ]
     },
     "execution_count": 45,
     "metadata": {},
     "output_type": "execute_result"
    }
   ],
   "source": [
    "# Example for wheat in STICS usm example files\n",
    "initial = InitialParams(file_path = parametrization_files_path + f\"/example/ble_ini.xml\",\n",
    "              hinitf_unit = '%')\n",
    "initial"
   ]
  },
  {
   "cell_type": "markdown",
   "id": "e8f3baf4",
   "metadata": {},
   "source": [
    "# Station parameters"
   ]
  },
  {
   "cell_type": "markdown",
   "id": "07dc3ba3",
   "metadata": {},
   "source": [
    "Option 1 : provide all initial values when you instantiate the object"
   ]
  },
  {
   "cell_type": "markdown",
   "id": "a28e59fa",
   "metadata": {},
   "source": [
    "Option 2 : retrieve parameters from an XML file"
   ]
  },
  {
   "cell_type": "code",
   "execution_count": 46,
   "id": "37a5102f",
   "metadata": {},
   "outputs": [],
   "source": [
    "station = StationParams(file_path = parametrization_files_path + f\"/example/climblej_sta.xml\")"
   ]
  },
  {
   "cell_type": "markdown",
   "id": "81b08329",
   "metadata": {},
   "source": [
    "# Technical parameters"
   ]
  },
  {
   "cell_type": "markdown",
   "id": "84c6d252",
   "metadata": {},
   "source": [
    "Option 1 : provide all initial values when you instantiate the object"
   ]
  },
  {
   "cell_type": "code",
   "execution_count": 47,
   "id": "6c5ba7d9",
   "metadata": {},
   "outputs": [],
   "source": [
    "manage = ManageParams(\n",
    "        IPLT0=290,\n",
    "        PROFSEM=2,\n",
    "        DENSITESEM=250,\n",
    "        CODECALIRRIG=2,\n",
    "        CODEDATEAPPH2O=2\n",
    "    )"
   ]
  },
  {
   "cell_type": "markdown",
   "id": "d374fd23",
   "metadata": {},
   "source": [
    "Option 2 : retrieve parameters from an XML file"
   ]
  },
  {
   "cell_type": "code",
   "execution_count": 48,
   "id": "28c417a2",
   "metadata": {},
   "outputs": [
    {
     "data": {
      "text/plain": [
       "ManageParams(file_path='/home/etienne/Documents/pySTICS/src/pystics/parametrization_files/example/Ble_tec.xml', IPLT0=297.0, PROFSEM=2.5, DENSITESEM=311.0, CODRECOLTE=2.0, CODEAUMIN=2.0, H2OGRAINMAX=0.14, H2OGRAINMIN=0.8, CODLOCIRRIG=1.0, CODECALIRRIG=2.0, CODEDATE_IRRIGAUTO=3.0, DATEDEB_IRRIGAUTO=0.0, DATEFIN_IRRIGAUTO=0.0, DOSIMX=40.0, DOSEIRRIGMIN=20.0, RATIOL=0.0, EFFIRR=1.0, CODEDATEAPPH2O=2.0, IRRIGATION_INTERVENTIONS={'495': 22.2, '523': 16.4, '533': 20.6, '541': 20.8, '546': 29.2}, TEMPFAUCHE=0.0, CODEMODFAUCHE=1.0, HAUTCOUPE=0.0, CODEFAUCHE=2.0, JULFAUCHE=[], MSCOUPEMINI=[])"
      ]
     },
     "execution_count": 48,
     "metadata": {},
     "output_type": "execute_result"
    }
   ],
   "source": [
    "manage = ManageParams(file_path = parametrization_files_path + f\"/example/Ble_tec.xml\")\n",
    "manage"
   ]
  },
  {
   "cell_type": "markdown",
   "id": "346b976c",
   "metadata": {},
   "source": [
    "# Constant parameters"
   ]
  },
  {
   "cell_type": "code",
   "execution_count": 49,
   "id": "f78a2108",
   "metadata": {},
   "outputs": [
    {
     "data": {
      "text/plain": [
       "Constants(COEFB=0.0008150000000000001, PROPRAC=0.2, Y0MSRAC=0.7, LVOPT=0.5, PARSURRG=0.48, DIFTHERM=0.00537, PSIHUCC=-0.03, PSIHUMIN=-1.5, IRRLEV=20.0, DASEUILBAS=1.4, DASEUILHAUT=2.0)"
      ]
     },
     "execution_count": 49,
     "metadata": {},
     "output_type": "execute_result"
    }
   ],
   "source": [
    "constants = Constants()\n",
    "constants"
   ]
  },
  {
   "cell_type": "markdown",
   "id": "86df4c01",
   "metadata": {},
   "source": [
    "# Weather"
   ]
  },
  {
   "cell_type": "markdown",
   "id": "c14ee1cf",
   "metadata": {},
   "source": [
    "Weather file must be a pandas dataframe containing columns with right names : doy / min air temperature (temp_min) / max air temperature (temp_max) / radiation (trg) / rain (trr) / CO2 (co2)"
   ]
  },
  {
   "cell_type": "code",
   "execution_count": 50,
   "id": "d8ab956f",
   "metadata": {},
   "outputs": [
    {
     "data": {
      "text/html": [
       "<div>\n",
       "<style scoped>\n",
       "    .dataframe tbody tr th:only-of-type {\n",
       "        vertical-align: middle;\n",
       "    }\n",
       "\n",
       "    .dataframe tbody tr th {\n",
       "        vertical-align: top;\n",
       "    }\n",
       "\n",
       "    .dataframe thead th {\n",
       "        text-align: right;\n",
       "    }\n",
       "</style>\n",
       "<table border=\"1\" class=\"dataframe\">\n",
       "  <thead>\n",
       "    <tr style=\"text-align: right;\">\n",
       "      <th></th>\n",
       "      <th>file</th>\n",
       "      <th>year</th>\n",
       "      <th>month</th>\n",
       "      <th>day</th>\n",
       "      <th>doy</th>\n",
       "      <th>temp_min</th>\n",
       "      <th>temp_max</th>\n",
       "      <th>radiation</th>\n",
       "      <th>etp</th>\n",
       "      <th>rain</th>\n",
       "      <th>wind</th>\n",
       "      <th>tpm</th>\n",
       "      <th>co2</th>\n",
       "    </tr>\n",
       "  </thead>\n",
       "  <tbody>\n",
       "    <tr>\n",
       "      <th>0</th>\n",
       "      <td>tmy_45.78_3.08</td>\n",
       "      <td>1994</td>\n",
       "      <td>10</td>\n",
       "      <td>17</td>\n",
       "      <td>290</td>\n",
       "      <td>8.5</td>\n",
       "      <td>13.6</td>\n",
       "      <td>5.2</td>\n",
       "      <td>-999.9</td>\n",
       "      <td>0.0</td>\n",
       "      <td>6.4</td>\n",
       "      <td>-999.9</td>\n",
       "      <td>330.0</td>\n",
       "    </tr>\n",
       "    <tr>\n",
       "      <th>1</th>\n",
       "      <td>tmy_45.78_3.08</td>\n",
       "      <td>1994</td>\n",
       "      <td>10</td>\n",
       "      <td>18</td>\n",
       "      <td>291</td>\n",
       "      <td>5.9</td>\n",
       "      <td>19.2</td>\n",
       "      <td>12.8</td>\n",
       "      <td>-999.9</td>\n",
       "      <td>0.0</td>\n",
       "      <td>8.6</td>\n",
       "      <td>-999.9</td>\n",
       "      <td>330.0</td>\n",
       "    </tr>\n",
       "    <tr>\n",
       "      <th>2</th>\n",
       "      <td>tmy_45.78_3.08</td>\n",
       "      <td>1994</td>\n",
       "      <td>10</td>\n",
       "      <td>19</td>\n",
       "      <td>292</td>\n",
       "      <td>10.5</td>\n",
       "      <td>13.8</td>\n",
       "      <td>1.8</td>\n",
       "      <td>-999.9</td>\n",
       "      <td>25.1</td>\n",
       "      <td>13.9</td>\n",
       "      <td>-999.9</td>\n",
       "      <td>330.0</td>\n",
       "    </tr>\n",
       "    <tr>\n",
       "      <th>3</th>\n",
       "      <td>tmy_45.78_3.08</td>\n",
       "      <td>1994</td>\n",
       "      <td>10</td>\n",
       "      <td>20</td>\n",
       "      <td>293</td>\n",
       "      <td>10.8</td>\n",
       "      <td>13.5</td>\n",
       "      <td>2.7</td>\n",
       "      <td>-999.9</td>\n",
       "      <td>27.4</td>\n",
       "      <td>5.5</td>\n",
       "      <td>-999.9</td>\n",
       "      <td>330.0</td>\n",
       "    </tr>\n",
       "    <tr>\n",
       "      <th>4</th>\n",
       "      <td>tmy_45.78_3.08</td>\n",
       "      <td>1994</td>\n",
       "      <td>10</td>\n",
       "      <td>21</td>\n",
       "      <td>294</td>\n",
       "      <td>7.2</td>\n",
       "      <td>14.7</td>\n",
       "      <td>7.4</td>\n",
       "      <td>-999.9</td>\n",
       "      <td>1.9</td>\n",
       "      <td>6.8</td>\n",
       "      <td>-999.9</td>\n",
       "      <td>330.0</td>\n",
       "    </tr>\n",
       "    <tr>\n",
       "      <th>...</th>\n",
       "      <td>...</td>\n",
       "      <td>...</td>\n",
       "      <td>...</td>\n",
       "      <td>...</td>\n",
       "      <td>...</td>\n",
       "      <td>...</td>\n",
       "      <td>...</td>\n",
       "      <td>...</td>\n",
       "      <td>...</td>\n",
       "      <td>...</td>\n",
       "      <td>...</td>\n",
       "      <td>...</td>\n",
       "      <td>...</td>\n",
       "    </tr>\n",
       "    <tr>\n",
       "      <th>71</th>\n",
       "      <td>tmy_45.78_3.08</td>\n",
       "      <td>1994</td>\n",
       "      <td>12</td>\n",
       "      <td>27</td>\n",
       "      <td>361</td>\n",
       "      <td>2.6</td>\n",
       "      <td>7.8</td>\n",
       "      <td>2.6</td>\n",
       "      <td>-999.9</td>\n",
       "      <td>0.5</td>\n",
       "      <td>18.0</td>\n",
       "      <td>-999.9</td>\n",
       "      <td>330.0</td>\n",
       "    </tr>\n",
       "    <tr>\n",
       "      <th>72</th>\n",
       "      <td>tmy_45.78_3.08</td>\n",
       "      <td>1994</td>\n",
       "      <td>12</td>\n",
       "      <td>28</td>\n",
       "      <td>362</td>\n",
       "      <td>4.9</td>\n",
       "      <td>9.3</td>\n",
       "      <td>2.1</td>\n",
       "      <td>-999.9</td>\n",
       "      <td>1.0</td>\n",
       "      <td>14.5</td>\n",
       "      <td>-999.9</td>\n",
       "      <td>330.0</td>\n",
       "    </tr>\n",
       "    <tr>\n",
       "      <th>73</th>\n",
       "      <td>tmy_45.78_3.08</td>\n",
       "      <td>1994</td>\n",
       "      <td>12</td>\n",
       "      <td>29</td>\n",
       "      <td>363</td>\n",
       "      <td>3.2</td>\n",
       "      <td>10.6</td>\n",
       "      <td>2.1</td>\n",
       "      <td>-999.9</td>\n",
       "      <td>0.2</td>\n",
       "      <td>16.1</td>\n",
       "      <td>-999.9</td>\n",
       "      <td>330.0</td>\n",
       "    </tr>\n",
       "    <tr>\n",
       "      <th>74</th>\n",
       "      <td>tmy_45.78_3.08</td>\n",
       "      <td>1994</td>\n",
       "      <td>12</td>\n",
       "      <td>30</td>\n",
       "      <td>364</td>\n",
       "      <td>4.9</td>\n",
       "      <td>9.3</td>\n",
       "      <td>1.2</td>\n",
       "      <td>-999.9</td>\n",
       "      <td>13.2</td>\n",
       "      <td>17.1</td>\n",
       "      <td>-999.9</td>\n",
       "      <td>330.0</td>\n",
       "    </tr>\n",
       "    <tr>\n",
       "      <th>75</th>\n",
       "      <td>tmy_45.78_3.08</td>\n",
       "      <td>1994</td>\n",
       "      <td>12</td>\n",
       "      <td>31</td>\n",
       "      <td>365</td>\n",
       "      <td>4.2</td>\n",
       "      <td>6.2</td>\n",
       "      <td>1.9</td>\n",
       "      <td>-999.9</td>\n",
       "      <td>5.8</td>\n",
       "      <td>14.6</td>\n",
       "      <td>-999.9</td>\n",
       "      <td>330.0</td>\n",
       "    </tr>\n",
       "  </tbody>\n",
       "</table>\n",
       "<p>76 rows × 13 columns</p>\n",
       "</div>"
      ],
      "text/plain": [
       "              file  year month day  doy temp_min temp_max radiation     etp  \\\n",
       "0   tmy_45.78_3.08  1994    10  17  290      8.5     13.6       5.2  -999.9   \n",
       "1   tmy_45.78_3.08  1994    10  18  291      5.9     19.2      12.8  -999.9   \n",
       "2   tmy_45.78_3.08  1994    10  19  292     10.5     13.8       1.8  -999.9   \n",
       "3   tmy_45.78_3.08  1994    10  20  293     10.8     13.5       2.7  -999.9   \n",
       "4   tmy_45.78_3.08  1994    10  21  294      7.2     14.7       7.4  -999.9   \n",
       "..             ...   ...   ...  ..  ...      ...      ...       ...     ...   \n",
       "71  tmy_45.78_3.08  1994    12  27  361      2.6      7.8       2.6  -999.9   \n",
       "72  tmy_45.78_3.08  1994    12  28  362      4.9      9.3       2.1  -999.9   \n",
       "73  tmy_45.78_3.08  1994    12  29  363      3.2     10.6       2.1  -999.9   \n",
       "74  tmy_45.78_3.08  1994    12  30  364      4.9      9.3       1.2  -999.9   \n",
       "75  tmy_45.78_3.08  1994    12  31  365      4.2      6.2       1.9  -999.9   \n",
       "\n",
       "    rain  wind     tpm    co2  \n",
       "0    0.0   6.4  -999.9  330.0  \n",
       "1    0.0   8.6  -999.9  330.0  \n",
       "2   25.1  13.9  -999.9  330.0  \n",
       "3   27.4   5.5  -999.9  330.0  \n",
       "4    1.9   6.8  -999.9  330.0  \n",
       "..   ...   ...     ...    ...  \n",
       "71   0.5  18.0  -999.9  330.0  \n",
       "72   1.0  14.5  -999.9  330.0  \n",
       "73   0.2  16.1  -999.9  330.0  \n",
       "74  13.2  17.1  -999.9  330.0  \n",
       "75   5.8  14.6  -999.9  330.0  \n",
       "\n",
       "[76 rows x 13 columns]"
      ]
     },
     "execution_count": 50,
     "metadata": {},
     "output_type": "execute_result"
    }
   ],
   "source": [
    "# Example with a weather file from STICS team examples\n",
    "weather = pd.read_csv(mocked_weather_path, header=None).rename(columns={0:\"raw\"})\n",
    "weather[\"raw\"] = weather[\"raw\"].str.split()\n",
    "weather = pd.DataFrame(weather.raw.tolist(), index= weather.index, columns = ['file','year','month','day','doy','temp_min','temp_max','radiation','etp','rain','wind','tpm','co2'])\n",
    "weather"
   ]
  },
  {
   "cell_type": "markdown",
   "id": "6ed830d8",
   "metadata": {},
   "source": [
    "# Full parametrization with XML files\n",
    "A built-in function (parametrization_from_stics_example_files) allows to parametrize all necessary files at once by providing species, variety and XML files folder path.\n",
    "The XML files folder structure should be organized like parametrization_files folder (2 sub-folder example and plant), and particularly containing an usms.xml file which associates all the files to the species name (this allows to have only one function to parametrize all objects).\n"
   ]
  },
  {
   "cell_type": "code",
   "execution_count": 51,
   "id": "97004079",
   "metadata": {},
   "outputs": [],
   "source": [
    "# Example with wheat USM (see parametrization_files/example/usms.xml to see the files associated)\n",
    "weather, crop, manage, soil, station, constants, initial = parametrization_from_stics_example_files(species = 'wheat',\n",
    "                                                                                                    variety = 'Talent',\n",
    "                                                                                                    xml_folder_path = parametrization_files_path)"
   ]
  }
 ],
 "metadata": {
  "kernelspec": {
   "display_name": "test_env",
   "language": "python",
   "name": "python3"
  },
  "language_info": {
   "codemirror_mode": {
    "name": "ipython",
    "version": 3
   },
   "file_extension": ".py",
   "mimetype": "text/x-python",
   "name": "python",
   "nbconvert_exporter": "python",
   "pygments_lexer": "ipython3",
   "version": "3.10.12"
  }
 },
 "nbformat": 4,
 "nbformat_minor": 5
}
