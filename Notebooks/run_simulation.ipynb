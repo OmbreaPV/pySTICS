{
 "cells": [
  {
   "cell_type": "markdown",
   "id": "a65a9152",
   "metadata": {},
   "source": [
    "# Run a simulation on an example from STICS USM (unit of simulation)\n",
    "- Input : species and variety\n",
    "- Run : example files from STICS for the chosen USM (plant / soil / weather / management / weather station) are read\n",
    "- To do : works only for Wheat for now"
   ]
  },
  {
   "cell_type": "code",
   "execution_count": 1,
   "id": "d7405cd8",
   "metadata": {},
   "outputs": [],
   "source": [
    "##### Choice of species and variety\n",
    "species = 'wheat'\n",
    "variety = 'Thesee'"
   ]
  },
  {
   "cell_type": "code",
   "execution_count": 2,
   "id": "4b47abb5",
   "metadata": {},
   "outputs": [],
   "source": [
    "##### Run a simulation\n",
    "\n",
    "# Read example input files from STICS for the USM associated to chosen species and variety\n",
    "from pystics.get_params import parametrization_from_usm_example\n",
    "meteo, crop, soil, manage, station, constants, user = parametrization_from_usm_example(species, variety, meteo_source='stics')\n",
    "\n",
    "# Run the simulation\n",
    "from pystics.tasks import run_stics_simulation\n",
    "stics, mat = run_stics_simulation(crop, soil, constants, meteo, user, manage, station)"
   ]
  },
  {
   "cell_type": "code",
   "execution_count": 3,
   "id": "dc3e682d",
   "metadata": {},
   "outputs": [
    {
     "data": {
      "text/plain": [
       "31.905594900735792"
      ]
     },
     "execution_count": 3,
     "metadata": {},
     "output_type": "execute_result"
    }
   ],
   "source": [
    "# Yield\n",
    "stics.mafruit.sum()"
   ]
  },
  {
   "cell_type": "markdown",
   "id": "0c765337",
   "metadata": {},
   "source": [
    "# Run a simulation by choosing the location and year of simulation\n",
    "- Inputs : espèce et variété, latitude / longitude / year\n",
    "- Run : plant and soil files from STICS associated to the species and variety are read, the weather data at the chosen location and for the chosen year are requested from ERA API (and stored in the meteo directory so it does not need to be requested again for each simulation).\n",
    "- To do : build a soil typlogy to associate a soil file to each location, or at least a list of soil files."
   ]
  },
  {
   "cell_type": "code",
   "execution_count": 4,
   "id": "a0a28b2f",
   "metadata": {},
   "outputs": [],
   "source": [
    "##### Choice of species and variety\n",
    "species = 'wheat'\n",
    "variety = 'Thesee'\n",
    "\n",
    "##### Choice of latitude / longitude / year for the weather data request\n",
    "# Liège : 50.4 / 5.3\n",
    "# Aix :  50.4 / 3.3\n",
    "latitude = 50.4\n",
    "longitude = 3.3\n",
    "year = 2014"
   ]
  },
  {
   "cell_type": "code",
   "execution_count": 5,
   "id": "a50b6d60",
   "metadata": {},
   "outputs": [],
   "source": [
    "##### Parametrization and read (or request) of weather data : if the weather data for the combination year-latitude-longitude was never requested, it is then requested and stored in the meteo directory (takes around 30s)\n",
    "from pystics.get_params import parametrization_from_usm_example\n",
    "meteo, crop, soil, manage, station, constants, user = parametrization_from_usm_example(species, variety, meteo_source='era5', lat=latitude, lon=longitude, year=year)"
   ]
  },
  {
   "cell_type": "code",
   "execution_count": 6,
   "id": "5dfda84b",
   "metadata": {},
   "outputs": [],
   "source": [
    "##### Run a simulation\n",
    "from pystics.tasks import run_stics_simulation\n",
    "stics, mat = run_stics_simulation(crop, soil, constants, meteo, user, manage, station)"
   ]
  },
  {
   "cell_type": "code",
   "execution_count": 7,
   "id": "a4b59e58",
   "metadata": {},
   "outputs": [
    {
     "data": {
      "text/plain": [
       "33.203931306894184"
      ]
     },
     "execution_count": 7,
     "metadata": {},
     "output_type": "execute_result"
    }
   ],
   "source": [
    "# Yield\n",
    "stics.mafruit.sum()"
   ]
  }
 ],
 "metadata": {
  "kernelspec": {
   "display_name": "test_env",
   "language": "python",
   "name": "python3"
  },
  "language_info": {
   "codemirror_mode": {
    "name": "ipython",
    "version": 3
   },
   "file_extension": ".py",
   "mimetype": "text/x-python",
   "name": "python",
   "nbconvert_exporter": "python",
   "pygments_lexer": "ipython3",
   "version": "3.10.12"
  }
 },
 "nbformat": 4,
 "nbformat_minor": 5
}
